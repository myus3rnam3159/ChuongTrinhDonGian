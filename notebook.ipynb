{
 "cells": [
  {
   "cell_type": "markdown",
   "metadata": {},
   "source": [
    "Cho dữ liệu mẫu: 5, 6, 7. 8. Xuất kết quả theo dạng \\\n",
    "List: ['5', '6', '7', '8'] \\\n",
    "Tuple: ('5', '6', '7', '8')"
   ]
  }
 ],
 "metadata": {
  "interpreter": {
   "hash": "6dec458b4825ced20e549b9adb0881644fd037eb413180367b43290a7f6412bf"
  },
  "kernelspec": {
   "display_name": "Python 3.8.10 64-bit",
   "language": "python",
   "name": "python3"
  },
  "language_info": {
   "codemirror_mode": {
    "name": "ipython",
    "version": 3
   },
   "file_extension": ".py",
   "mimetype": "text/x-python",
   "name": "python",
   "nbconvert_exporter": "python",
   "pygments_lexer": "ipython3",
   "version": "3.8.10"
  },
  "orig_nbformat": 4
 },
 "nbformat": 4,
 "nbformat_minor": 2
}
